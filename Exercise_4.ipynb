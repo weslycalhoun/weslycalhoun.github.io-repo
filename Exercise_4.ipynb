{
 "cells": [
  {
   "cell_type": "code",
   "execution_count": 1,
   "id": "b3a32ed2-cb3b-4770-9940-65f66fecfb09",
   "metadata": {},
   "outputs": [
    {
     "name": "stdout",
     "output_type": "stream",
     "text": [
      "<class 'int'>\n",
      "<class 'float'>\n",
      "<class 'str'>\n"
     ]
    }
   ],
   "source": [
    "# 1. Data Types\n",
    "\n",
    "a=3\n",
    "b=15.8\n",
    "c=\"numbers\"\n",
    "print(type(a))\n",
    "print(type(b))\n",
    "print(type(c))\n"
   ]
  },
  {
   "cell_type": "code",
   "execution_count": 2,
   "id": "683110c5-ed05-48f7-8d17-125ace26e859",
   "metadata": {},
   "outputs": [
    {
     "name": "stdout",
     "output_type": "stream",
     "text": [
      "<class 'str'>\n",
      "<class 'int'>\n",
      "<class 'bool'>\n"
     ]
    }
   ],
   "source": [
    "# 2. Data Types\n",
    "\n",
    "a = str(a)\n",
    "b = int(b)\n",
    "c = bool(c)\n",
    "print(type(a))\n",
    "print(type(b))\n",
    "print(type(c))\n"
   ]
  },
  {
   "cell_type": "code",
   "execution_count": 3,
   "id": "3c975154-d521-4110-99b7-f33c20e3cc61",
   "metadata": {},
   "outputs": [
    {
     "name": "stdout",
     "output_type": "stream",
     "text": [
      "a and b are numbers\n"
     ]
    }
   ],
   "source": [
    "# 3. Data Types\n",
    "\n",
    "## Used variable names to numbers given in assignment and used previously\n",
    "\n",
    "d= \"a and b are numbers\"\n",
    "print(d)\n"
   ]
  },
  {
   "cell_type": "code",
   "execution_count": 6,
   "id": "d8634faf-ec24-4cb0-a059-c4f18a53d7f7",
   "metadata": {},
   "outputs": [
    {
     "name": "stdout",
     "output_type": "stream",
     "text": [
      "False\n"
     ]
    }
   ],
   "source": [
    "# 4. Data Types\n",
    "\n",
    "e= bool(\"games\" == \"Games\")\n",
    "print(e)\n",
    "\n"
   ]
  },
  {
   "cell_type": "code",
   "execution_count": 7,
   "id": "53479122-770e-4424-8231-af516cf93010",
   "metadata": {},
   "outputs": [
    {
     "ename": "NameError",
     "evalue": "name 'Deer' is not defined",
     "output_type": "error",
     "traceback": [
      "\u001b[1;31m---------------------------------------------------------------------------\u001b[0m",
      "\u001b[1;31mNameError\u001b[0m                                 Traceback (most recent call last)",
      "Input \u001b[1;32mIn [7]\u001b[0m, in \u001b[0;36m<cell line: 3>\u001b[1;34m()\u001b[0m\n\u001b[0;32m      1\u001b[0m \u001b[38;5;66;03m# 5. Data Types\u001b[39;00m\n\u001b[1;32m----> 3\u001b[0m f\u001b[38;5;241m=\u001b[39mFirst_Name\u001b[38;5;241m=\u001b[39m\u001b[43mDeer\u001b[49m\n\u001b[0;32m      4\u001b[0m \u001b[38;5;28mprint\u001b[39m(f)\n",
      "\u001b[1;31mNameError\u001b[0m: name 'Deer' is not defined"
     ]
    }
   ],
   "source": [
    "# 5. Data Types\n",
    "\n",
    "f=First_Name=Deer\n",
    "print(f)\n",
    "\n",
    "\n",
    "# Error message is thinking that \"Deer\" is a variable which is not defined yet.\n",
    "# You are trying to name a variable with another variable that has not been defined.\n",
    "# We either need to define it or put it as a string value in parentheses to make code work."
   ]
  },
  {
   "cell_type": "code",
   "execution_count": 4,
   "id": "96505526-a2f2-4bcf-ac07-5cd129e2d6a0",
   "metadata": {},
   "outputs": [
    {
     "name": "stdout",
     "output_type": "stream",
     "text": [
      "0.778498944161523\n",
      "182.25\n",
      "5.657803408289828e-118\n"
     ]
    }
   ],
   "source": [
    "# 1. Math Operators\n",
    "\n",
    "x=10\n",
    "y=3.5\n",
    "z=13\n",
    "\n",
    "## a.\n",
    "\n",
    "g=(x/(y+z))**(1/2)\n",
    "print(g)\n",
    "\n",
    "h=(x+y)**2\n",
    "print(h)\n",
    "\n",
    "i=(2.718)**((-2*x)*(y+x))\n",
    "print(i)"
   ]
  },
  {
   "cell_type": "code",
   "execution_count": 9,
   "id": "6c3077a4-743f-46d6-bfb4-3538c16a0a17",
   "metadata": {},
   "outputs": [
    {
     "name": "stdout",
     "output_type": "stream",
     "text": [
      "24.199128003548275\n"
     ]
    }
   ],
   "source": [
    "# 2. Math Operators\n",
    "\n",
    "## 1 foot = 0.3048 Meters\n",
    "## 5ft 7in = 5.58 ft\n",
    "\n",
    "body_mass = 70\n",
    "height = 5.58*0.3048\n",
    "BMI = body_mass/(height**2)\n",
    "print(BMI)\n"
   ]
  },
  {
   "cell_type": "code",
   "execution_count": 11,
   "id": "8dd06e47-ea9d-49d3-8252-018176729b1a",
   "metadata": {},
   "outputs": [
    {
     "data": {
      "text/plain": [
       "9.539392014169456"
      ]
     },
     "execution_count": 11,
     "metadata": {},
     "output_type": "execute_result"
    }
   ],
   "source": [
    "#3. Math Operators\n",
    "\n",
    "import math\n",
    "math.sqrt((10**2)-(3**2))"
   ]
  },
  {
   "cell_type": "code",
   "execution_count": 14,
   "id": "60c19607-a650-475a-832c-cb76c6b55584",
   "metadata": {},
   "outputs": [
    {
     "name": "stdout",
     "output_type": "stream",
     "text": [
      "0.6666666666666666\n",
      "-1.0\n"
     ]
    }
   ],
   "source": [
    "# 4. Math Operators\n",
    "\n",
    "## for quadratic 6x^2 +2x-4=0\n",
    "\n",
    "j=6\n",
    "k=2\n",
    "l=(-4)\n",
    "\n",
    "x_root1 = ((-k)+math.sqrt((k**2)-(4*j*l)))/(2*j)\n",
    "x_root2 = ((-k)-math.sqrt((k**2)-(4*j*l)))/(2*j)\n",
    "\n",
    "print(x_root1)\n",
    "print(x_root2)\n"
   ]
  },
  {
   "cell_type": "code",
   "execution_count": 15,
   "id": "3f412785-71f0-45cf-ad02-cceea1119960",
   "metadata": {},
   "outputs": [
    {
     "name": "stdout",
     "output_type": "stream",
     "text": [
      "104.0\n",
      "128.72\n"
     ]
    }
   ],
   "source": [
    "# 5. Math Operators\n",
    "\n",
    "## variable m is part a for this question\n",
    "m = 40*(9/5)+32\n",
    "print(m)\n",
    "\n",
    "## variable n is part b for this question\n",
    "n = 80*1.609\n",
    "print(n)\n"
   ]
  },
  {
   "cell_type": "code",
   "execution_count": 17,
   "id": "44b3718d-bff4-45b7-b73b-f0c76b76db7e",
   "metadata": {},
   "outputs": [
    {
     "name": "stdout",
     "output_type": "stream",
     "text": [
      "2.0\n",
      "0.08333333333333333\n",
      "4099.999999999999\n"
     ]
    }
   ],
   "source": [
    "# 6. Math Operators\n",
    "\n",
    "## a\n",
    "\n",
    "time = 81/(900*0.045)\n",
    "print(time)\n",
    "\n",
    "## b\n",
    "\n",
    "interest = 750/(4500*2)\n",
    "print(interest)\n",
    "\n",
    "## c\n",
    "\n",
    "principal = 1230/(0.05*6)\n",
    "print(principal)\n",
    "\n",
    "\n"
   ]
  },
  {
   "cell_type": "code",
   "execution_count": null,
   "id": "7a6ee4d4-01e0-4919-88cc-a02327b4f662",
   "metadata": {},
   "outputs": [],
   "source": []
  }
 ],
 "metadata": {
  "kernelspec": {
   "display_name": "base",
   "language": "python",
   "name": "base"
  },
  "language_info": {
   "codemirror_mode": {
    "name": "ipython",
    "version": 3
   },
   "file_extension": ".py",
   "mimetype": "text/x-python",
   "name": "python",
   "nbconvert_exporter": "python",
   "pygments_lexer": "ipython3",
   "version": "3.9.12"
  }
 },
 "nbformat": 4,
 "nbformat_minor": 5
}
